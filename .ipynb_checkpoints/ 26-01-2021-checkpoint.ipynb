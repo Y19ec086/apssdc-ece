{
 "cells": [
  {
   "cell_type": "code",
   "execution_count": 1,
   "metadata": {},
   "outputs": [
    {
     "name": "stdout",
     "output_type": "stream",
     "text": [
      "9\n",
      "8\n",
      "7\n",
      "6\n",
      "5\n",
      "4\n",
      "3\n",
      "2\n",
      "1\n",
      "0\n"
     ]
    }
   ],
   "source": [
    "###reverse numbers by using while loop\n",
    "i = 9\n",
    "while i>=0:\n",
    "    print(i)\n",
    "    i-=1"
   ]
  },
  {
   "cell_type": "code",
   "execution_count": 9,
   "metadata": {},
   "outputs": [
    {
     "name": "stdout",
     "output_type": "stream",
     "text": [
      "enter the number9\n",
      "not a perfect\n"
     ]
    }
   ],
   "source": [
    "### perfect number\n",
    "n = int(input('enter the number'))\n",
    "s = 0\n",
    "for i in range(1,n):\n",
    "    if n%i == 0:\n",
    "        s+=i\n",
    "if s==n:\n",
    "    print('number is perfect')\n",
    "else:\n",
    "    print('not a perfect')"
   ]
  },
  {
   "cell_type": "markdown",
   "metadata": {},
   "source": [
    "t = int(input('enter the given number'))\n",
    "t_len = int(input('enter the table lengh'))\n",
    "for i in range(1,t+1):\n",
    "    for j in range(1,t_len+1):\n",
    "        print(' {} * {} = {}',i,j,i*j)"
   ]
  },
  {
   "cell_type": "code",
   "execution_count": 11,
   "metadata": {},
   "outputs": [
    {
     "name": "stdout",
     "output_type": "stream",
     "text": [
      "1 2 3 4 "
     ]
    }
   ],
   "source": [
    "##break\n",
    "###continue\n",
    "\n",
    "for i in range(1,10):\n",
    "    if i == 5:\n",
    "        break\n",
    "    print(i,end = \" \")\n",
    "        \n",
    "      \n",
    "        "
   ]
  },
  {
   "cell_type": "markdown",
   "metadata": {},
   "source": [
    "###FUNCTIONS:\n",
    " - block of code to perform sum operations\n",
    "### ADVANTAGES:\n",
    "    - code reusability\n",
    "    - readbulity of the program\n",
    "    - code reduce\n",
    "    - time decrease\n",
    "    \n",
    "####TYPES OF FUNCTIONS\n",
    "    - 1. inbuilt\\defalut functions\n",
    "           - Ex.print,sum,max,min,int,\n",
    "    - 2. user define functions\n",
    "           1.function declaration:\n",
    "                     'def FunctionName(arg):'\n",
    "           2.function definatiom:\n",
    "                     'statements'\n",
    "           3.function calling:\n",
    "                  'by using function name '\n",
    "    - 3. special functions/annonymous functions\n",
    "          - lambda,comprehensions,iterations,map\n",
    "    \n",
    "    \n",
    "    \n"
   ]
  },
  {
   "cell_type": "code",
   "execution_count": 18,
   "metadata": {},
   "outputs": [
    {
     "name": "stdout",
     "output_type": "stream",
     "text": [
      "12\n"
     ]
    }
   ],
   "source": [
    "## function creation \n",
    "def add(a,b):\n",
    "    print(a+b)\n",
    "add(7,5)"
   ]
  },
  {
   "cell_type": "markdown",
   "metadata": {},
   "source": [
    " "
   ]
  },
  {
   "cell_type": "code",
   "execution_count": 21,
   "metadata": {},
   "outputs": [
    {
     "name": "stdout",
     "output_type": "stream",
     "text": [
      "-2\n"
     ]
    }
   ],
   "source": [
    "##function subtraction\n",
    "def sub(a,b):\n",
    "    print(a-b)\n",
    "    \n",
    "sub(5,7)\n",
    "    "
   ]
  },
  {
   "cell_type": "markdown",
   "metadata": {},
   "source": [
    "# types of user defined functions\n",
    "# based on return value\n",
    "#1. without arg and without return value\n",
    "#2. without arg and with return value\n",
    "#3.with arg and without return value\n",
    "#4.with arg and with return value"
   ]
  },
  {
   "cell_type": "code",
   "execution_count": null,
   "metadata": {},
   "outputs": [
    {
     "name": "stdout",
     "output_type": "stream",
     "text": [
      "enter the value6\n",
      "number is not a factor\n"
     ]
    }
   ],
   "source": [
    "#1. without arg and without return value\n",
    "def f1():\n",
    "    n = int(input('enter the value'))\n",
    "    if 10%n == 0:\n",
    "        print('number is factor of 10')\n",
    "    else:\n",
    "        print('number is not a factor')\n",
    "f1()\n",
    "n= f1()\n",
    "print(n)"
   ]
  },
  {
   "cell_type": "code",
   "execution_count": 6,
   "metadata": {},
   "outputs": [
    {
     "name": "stdout",
     "output_type": "stream",
     "text": [
      "enter the value9\n",
      "enter the value8\n",
      "addition,subtraction,multiplication 17 1 72\n"
     ]
    }
   ],
   "source": [
    "#without argument and with return value \n",
    "def f2():\n",
    "    n1 = int(input('enter the value'))\n",
    "    n2 = int(input('enter the value'))\n",
    "    return n1+n2,n1-n2,n1*n2\n",
    "a,b,c = f2()\n",
    "print('addition,subtraction,multiplication',a,b,c)\n",
    "    "
   ]
  },
  {
   "cell_type": "code",
   "execution_count": null,
   "metadata": {},
   "outputs": [],
   "source": []
  },
  {
   "cell_type": "code",
   "execution_count": null,
   "metadata": {},
   "outputs": [],
   "source": []
  },
  {
   "cell_type": "code",
   "execution_count": null,
   "metadata": {},
   "outputs": [],
   "source": []
  }
 ],
 "metadata": {
  "kernelspec": {
   "display_name": "Python 3",
   "language": "python",
   "name": "python3"
  },
  "language_info": {
   "codemirror_mode": {
    "name": "ipython",
    "version": 3
   },
   "file_extension": ".py",
   "mimetype": "text/x-python",
   "name": "python",
   "nbconvert_exporter": "python",
   "pygments_lexer": "ipython3",
   "version": "3.7.3"
  }
 },
 "nbformat": 4,
 "nbformat_minor": 2
}

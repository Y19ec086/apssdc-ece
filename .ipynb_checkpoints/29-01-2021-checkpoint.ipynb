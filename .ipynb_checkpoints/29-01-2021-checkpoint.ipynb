{
 "cells": [
  {
   "cell_type": "markdown",
   "metadata": {},
   "source": [
    "###Task3\n",
    " - g ='ABCefg123@$%ABCabc'\n",
    "    - Upper,Lower,Special Symbols,len"
   ]
  },
  {
   "cell_type": "code",
   "execution_count": 29,
   "metadata": {},
   "outputs": [],
   "source": [
    "g = 'ABCefg123@$%ABCabc'\n",
    "for i in range(0,18):\n",
    "    if g == g.isupper():\n",
    "        print(g)\n"
   ]
  },
  {
   "cell_type": "code",
   "execution_count": 30,
   "metadata": {},
   "outputs": [
    {
     "data": {
      "text/plain": [
       "['__add__',\n",
       " '__class__',\n",
       " '__contains__',\n",
       " '__delattr__',\n",
       " '__dir__',\n",
       " '__doc__',\n",
       " '__eq__',\n",
       " '__format__',\n",
       " '__ge__',\n",
       " '__getattribute__',\n",
       " '__getitem__',\n",
       " '__getnewargs__',\n",
       " '__gt__',\n",
       " '__hash__',\n",
       " '__init__',\n",
       " '__init_subclass__',\n",
       " '__iter__',\n",
       " '__le__',\n",
       " '__len__',\n",
       " '__lt__',\n",
       " '__mod__',\n",
       " '__mul__',\n",
       " '__ne__',\n",
       " '__new__',\n",
       " '__reduce__',\n",
       " '__reduce_ex__',\n",
       " '__repr__',\n",
       " '__rmod__',\n",
       " '__rmul__',\n",
       " '__setattr__',\n",
       " '__sizeof__',\n",
       " '__str__',\n",
       " '__subclasshook__',\n",
       " 'capitalize',\n",
       " 'casefold',\n",
       " 'center',\n",
       " 'count',\n",
       " 'encode',\n",
       " 'endswith',\n",
       " 'expandtabs',\n",
       " 'find',\n",
       " 'format',\n",
       " 'format_map',\n",
       " 'index',\n",
       " 'isalnum',\n",
       " 'isalpha',\n",
       " 'isascii',\n",
       " 'isdecimal',\n",
       " 'isdigit',\n",
       " 'isidentifier',\n",
       " 'islower',\n",
       " 'isnumeric',\n",
       " 'isprintable',\n",
       " 'isspace',\n",
       " 'istitle',\n",
       " 'isupper',\n",
       " 'join',\n",
       " 'ljust',\n",
       " 'lower',\n",
       " 'lstrip',\n",
       " 'maketrans',\n",
       " 'partition',\n",
       " 'replace',\n",
       " 'rfind',\n",
       " 'rindex',\n",
       " 'rjust',\n",
       " 'rpartition',\n",
       " 'rsplit',\n",
       " 'rstrip',\n",
       " 'split',\n",
       " 'splitlines',\n",
       " 'startswith',\n",
       " 'strip',\n",
       " 'swapcase',\n",
       " 'title',\n",
       " 'translate',\n",
       " 'upper',\n",
       " 'zfill']"
      ]
     },
     "execution_count": 30,
     "metadata": {},
     "output_type": "execute_result"
    }
   ],
   "source": [
    "dir(g)"
   ]
  },
  {
   "cell_type": "code",
   "execution_count": 37,
   "metadata": {},
   "outputs": [
    {
     "name": "stdout",
     "output_type": "stream",
     "text": [
      "[1, 3, 4, 6, 7, 8, 9, 89, 'R', 'V', 'R', 'J', 'C']\n"
     ]
    }
   ],
   "source": [
    "g = [1,3,4,6,7,8,9,89]\n",
    "g.extend('RVRJC')\n",
    "print(g)"
   ]
  },
  {
   "cell_type": "code",
   "execution_count": 43,
   "metadata": {},
   "outputs": [
    {
     "data": {
      "text/plain": [
       "8"
      ]
     },
     "execution_count": 43,
     "metadata": {},
     "output_type": "execute_result"
    }
   ],
   "source": [
    "g.index('R')"
   ]
  },
  {
   "cell_type": "code",
   "execution_count": 47,
   "metadata": {},
   "outputs": [],
   "source": [
    "g.insert(4,'SDC')"
   ]
  },
  {
   "cell_type": "code",
   "execution_count": 48,
   "metadata": {},
   "outputs": [
    {
     "name": "stdout",
     "output_type": "stream",
     "text": [
      "['SDC', 1, 3, 4, 'SDC', 6, 7, 8, 9, 89, 'R', 'V', 'R', 'J', 'C']\n"
     ]
    }
   ],
   "source": [
    "print(g)"
   ]
  },
  {
   "cell_type": "code",
   "execution_count": 50,
   "metadata": {},
   "outputs": [
    {
     "data": {
      "text/plain": [
       "'C'"
      ]
     },
     "execution_count": 50,
     "metadata": {},
     "output_type": "execute_result"
    }
   ],
   "source": [
    "g[-1]"
   ]
  },
  {
   "cell_type": "code",
   "execution_count": 51,
   "metadata": {},
   "outputs": [],
   "source": [
    "g.append('CODE')"
   ]
  },
  {
   "cell_type": "code",
   "execution_count": 52,
   "metadata": {},
   "outputs": [
    {
     "name": "stdout",
     "output_type": "stream",
     "text": [
      "['SDC', 1, 3, 4, 'SDC', 6, 7, 8, 9, 89, 'R', 'V', 'R', 'J', 'C', 'CODE']\n"
     ]
    }
   ],
   "source": [
    "print(g)"
   ]
  },
  {
   "cell_type": "code",
   "execution_count": 59,
   "metadata": {},
   "outputs": [
    {
     "data": {
      "text/plain": [
       "'C'"
      ]
     },
     "execution_count": 59,
     "metadata": {},
     "output_type": "execute_result"
    }
   ],
   "source": [
    "g.pop()"
   ]
  },
  {
   "cell_type": "code",
   "execution_count": 60,
   "metadata": {},
   "outputs": [
    {
     "name": "stdout",
     "output_type": "stream",
     "text": [
      "[1, 3, 4, 'SDC', 6, 7, 8, 9, 89, 'R', 'V', 'R', 'J']\n"
     ]
    }
   ],
   "source": [
    "print(g)"
   ]
  },
  {
   "cell_type": "code",
   "execution_count": 66,
   "metadata": {},
   "outputs": [],
   "source": [
    "g.remove(6)#we give value not index\n"
   ]
  },
  {
   "cell_type": "code",
   "execution_count": 67,
   "metadata": {},
   "outputs": [
    {
     "name": "stdout",
     "output_type": "stream",
     "text": [
      "[1, 3, 4, 7, 8, 9, 89, 'R', 'V', 'R', 'J']\n"
     ]
    }
   ],
   "source": [
    "print(g)"
   ]
  },
  {
   "cell_type": "code",
   "execution_count": 68,
   "metadata": {},
   "outputs": [],
   "source": [
    "g.clear()"
   ]
  },
  {
   "cell_type": "code",
   "execution_count": 69,
   "metadata": {},
   "outputs": [
    {
     "name": "stdout",
     "output_type": "stream",
     "text": [
      "[]\n"
     ]
    }
   ],
   "source": [
    "print(g)"
   ]
  },
  {
   "cell_type": "code",
   "execution_count": 72,
   "metadata": {},
   "outputs": [],
   "source": [
    "g = [1,3,4,6,7,8,9,89]\n",
    "g.reverse()##[::-1] this is for string(slicing){reverse}"
   ]
  },
  {
   "cell_type": "code",
   "execution_count": 73,
   "metadata": {},
   "outputs": [
    {
     "data": {
      "text/plain": [
       "[89, 9, 8, 7, 6, 4, 3, 1]"
      ]
     },
     "execution_count": 73,
     "metadata": {},
     "output_type": "execute_result"
    }
   ],
   "source": [
    "g"
   ]
  },
  {
   "cell_type": "markdown",
   "metadata": {},
   "source": [
    "##SORT\n",
    "- arrange the elements in ascending order or decending order"
   ]
  },
  {
   "cell_type": "code",
   "execution_count": 79,
   "metadata": {},
   "outputs": [],
   "source": [
    "g.sort()"
   ]
  },
  {
   "cell_type": "code",
   "execution_count": 80,
   "metadata": {},
   "outputs": [
    {
     "data": {
      "text/plain": [
       "[1, 3, 4, 6, 7, 8, 9, 89]"
      ]
     },
     "execution_count": 80,
     "metadata": {},
     "output_type": "execute_result"
    }
   ],
   "source": [
    "g"
   ]
  },
  {
   "cell_type": "code",
   "execution_count": 81,
   "metadata": {},
   "outputs": [
    {
     "data": {
      "text/plain": [
       "['avinash', 'madhu', 'narsi', 'raghav', 'yash']"
      ]
     },
     "execution_count": 81,
     "metadata": {},
     "output_type": "execute_result"
    }
   ],
   "source": [
    "name = ['yash','raghav','madhu','avinash','narsi']\n",
    "name.sort()\n",
    "name"
   ]
  },
  {
   "cell_type": "code",
   "execution_count": 84,
   "metadata": {},
   "outputs": [
    {
     "name": "stdout",
     "output_type": "stream",
     "text": [
      "[89, 9, 8, 7, 6, 4, 3, 1]\n"
     ]
    }
   ],
   "source": [
    "g.sort(reverse = True)#decending order\n",
    "print(g)"
   ]
  },
  {
   "cell_type": "code",
   "execution_count": 92,
   "metadata": {},
   "outputs": [
    {
     "name": "stdout",
     "output_type": "stream",
     "text": [
      "[1, 20, 3, 4, 5, 6]\n"
     ]
    }
   ],
   "source": [
    "n = [1,20,3,4,5,6]\n",
    "for i in range():\n",
    "    print(n)\n",
    "    \n",
    "    "
   ]
  },
  {
   "cell_type": "code",
   "execution_count": 95,
   "metadata": {
    "scrolled": true
   },
   "outputs": [
    {
     "data": {
      "text/plain": [
       "[' 1', '2', '3', '\"Ramu\"', '\"Avinash\"', '\"Raj\" ']"
      ]
     },
     "execution_count": 95,
     "metadata": {},
     "output_type": "execute_result"
    }
   ],
   "source": [
    "#Task\n",
    "a = '1,2,3,\"Ramu\",\"Avinash\",\"Raj\"'\n",
    "a.split(',')\n"
   ]
  },
  {
   "cell_type": "code",
   "execution_count": 136,
   "metadata": {},
   "outputs": [
    {
     "name": "stdout",
     "output_type": "stream",
     "text": [
      "['1', '2', '3', 1, 2, 3, 1, 2, 3, 1, 2, 3, 1, 2, 3, 1, 2, 3, 1, 2, 3, 1, 2, 3, 1, 2, 3, 1, 2, 3, 1, 2, 3, 1, 2, 3, 1, 2, 3, 1, 2, 3, 1, 2, 3, 1, 2, 3, 1, 2, 3, 1, 2, 3, 1, 2, 3, 1, 2, 3, 1, 2, 3, 1, 2, 3]\n",
      "['R', 'a', 'm', 'u', 'A', 'v', 'i', 'n', 'a', 's', 'h', 'R', 'a', 'j', 'R', 'a', 'm', 'u', 'A', 'v', 'i', 'n', 'a', 's', 'h', 'R', 'a', 'j', 'R', 'a', 'm', 'u', 'A', 'v', 'i', 'n', 'a', 's', 'h', 'R', 'a', 'j', ',', ',', ',', '\"', 'R', 'a', 'm', 'u', '\"', ',', '\"', 'A', 'v', 'i', 'n', 'a', 's', 'h', '\"', ',', '\"', 'R', 'a', 'j', '\"', 'R', 'a', 'm', 'u', 'A', 'v', 'i', 'n', 'a', 's', 'h', 'R', 'a', 'j', 'R', 'a', 'm', 'u', 'A', 'v', 'i', 'n', 'a', 's', 'h', 'R', 'a', 'j', 'R', 'a', 'm', 'u', 'A', 'v', 'i', 'n', 'a', 's', 'h', 'R', 'a', 'j']\n"
     ]
    }
   ],
   "source": [
    "for i in a:\n",
    "    if i.isdigit():\n",
    "        numbers.append(int(i))\n",
    "    elif i.isalpha():\n",
    "        names.append(i)\n",
    "print(numbers)\n",
    "print(names)"
   ]
  },
  {
   "cell_type": "code",
   "execution_count": 138,
   "metadata": {},
   "outputs": [
    {
     "data": {
      "text/plain": [
       "['1', '2', '3', '\"Ramu\"', '\"Avinash\"', '\"Raj\"']"
      ]
     },
     "execution_count": 138,
     "metadata": {},
     "output_type": "execute_result"
    }
   ],
   "source": [
    "a.split(',')\n"
   ]
  },
  {
   "cell_type": "code",
   "execution_count": 139,
   "metadata": {},
   "outputs": [
    {
     "name": "stdout",
     "output_type": "stream",
     "text": [
      "['1', '2', '3', 1, 2, 3, 1, 2, 3, 1, 2, 3, 1, 2, 3, 1, 2, 3, 1, 2, 3, 1, 2, 3, 1, 2, 3, 1, 2, 3, 1, 2, 3, 1, 2, 3, 1, 2, 3, 1, 2, 3, 1, 2, 3, 1, 2, 3, 1, 2, 3, 1, 2, 3, 1, 2, 3, 1, 2, 3, 1, 2, 3, 1, 2, 3, 1, 2, 3]\n",
      "['R', 'a', 'm', 'u', 'A', 'v', 'i', 'n', 'a', 's', 'h', 'R', 'a', 'j', 'R', 'a', 'm', 'u', 'A', 'v', 'i', 'n', 'a', 's', 'h', 'R', 'a', 'j', 'R', 'a', 'm', 'u', 'A', 'v', 'i', 'n', 'a', 's', 'h', 'R', 'a', 'j', ',', ',', ',', '\"', 'R', 'a', 'm', 'u', '\"', ',', '\"', 'A', 'v', 'i', 'n', 'a', 's', 'h', '\"', ',', '\"', 'R', 'a', 'j', '\"', 'R', 'a', 'm', 'u', 'A', 'v', 'i', 'n', 'a', 's', 'h', 'R', 'a', 'j', 'R', 'a', 'm', 'u', 'A', 'v', 'i', 'n', 'a', 's', 'h', 'R', 'a', 'j', 'R', 'a', 'm', 'u', 'A', 'v', 'i', 'n', 'a', 's', 'h', 'R', 'a', 'j', 'R', 'a', 'm', 'u', 'A', 'v', 'i', 'n', 'a', 's', 'h', 'R', 'a', 'j']\n"
     ]
    }
   ],
   "source": [
    "for i in a:\n",
    "    if i.isdigit():\n",
    "        numbers.append(int(i))\n",
    "    elif i.isalpha():\n",
    "        names.append(i)\n",
    "print(numbers)\n",
    "print(names)"
   ]
  },
  {
   "cell_type": "code",
   "execution_count": 140,
   "metadata": {},
   "outputs": [
    {
     "name": "stdout",
     "output_type": "stream",
     "text": [
      "['1', '2', '3', 1, 2, 3, 1, 2, 3, 1, 2, 3, 1, 2, 3, 1, 2, 3, 1, 2, 3, 1, 2, 3, 1, 2, 3, 1, 2, 3, 1, 2, 3, 1, 2, 3, 1, 2, 3, 1, 2, 3, 1, 2, 3, 1, 2, 3, 1, 2, 3, 1, 2, 3, 1, 2, 3, 1, 2, 3, 1, 2, 3, 1, 2, 3, 1, 2, 3, 1, 2, 3, 4, 5, 6]\n",
      "['R', 'a', 'm', 'u', 'A', 'v', 'i', 'n', 'a', 's', 'h', 'R', 'a', 'j', 'R', 'a', 'm', 'u', 'A', 'v', 'i', 'n', 'a', 's', 'h', 'R', 'a', 'j', 'R', 'a', 'm', 'u', 'A', 'v', 'i', 'n', 'a', 's', 'h', 'R', 'a', 'j', ',', ',', ',', '\"', 'R', 'a', 'm', 'u', '\"', ',', '\"', 'A', 'v', 'i', 'n', 'a', 's', 'h', '\"', ',', '\"', 'R', 'a', 'j', '\"', 'R', 'a', 'm', 'u', 'A', 'v', 'i', 'n', 'a', 's', 'h', 'R', 'a', 'j', 'R', 'a', 'm', 'u', 'A', 'v', 'i', 'n', 'a', 's', 'h', 'R', 'a', 'j', 'R', 'a', 'm', 'u', 'A', 'v', 'i', 'n', 'a', 's', 'h', 'R', 'a', 'j', 'R', 'a', 'm', 'u', 'A', 'v', 'i', 'n', 'a', 's', 'h', 'R', 'a', 'j', 'R', 'a', 'h', 'u', 'l', 'N', 'o', 'e', 'l', 'A', 'n', 'i', 'r', 'u', 'd', 'h', 'D', 's', 'p', 'S', 'i', 'd', 'd', 'u', 'T', 'r', 'e', 'v', 'i', 's']\n"
     ]
    }
   ],
   "source": [
    "b = '1,2,3,4,5,6,\"Rahul\",\"Noel\",\"Anirudh\",\"Dsp\",\"Siddu\",\"Trevis\"'\n",
    "b.split(',')\n",
    "\n",
    "for i in b:\n",
    "    if i.isdigit():\n",
    "        numbers.append(int(i))\n",
    "    elif i.isalpha():\n",
    "        names.append(i)\n",
    "print(numbers)\n",
    "print(names)"
   ]
  },
  {
   "cell_type": "code",
   "execution_count": null,
   "metadata": {},
   "outputs": [],
   "source": []
  }
 ],
 "metadata": {
  "kernelspec": {
   "display_name": "Python 3",
   "language": "python",
   "name": "python3"
  },
  "language_info": {
   "codemirror_mode": {
    "name": "ipython",
    "version": 3
   },
   "file_extension": ".py",
   "mimetype": "text/x-python",
   "name": "python",
   "nbconvert_exporter": "python",
   "pygments_lexer": "ipython3",
   "version": "3.7.3"
  }
 },
 "nbformat": 4,
 "nbformat_minor": 2
}
